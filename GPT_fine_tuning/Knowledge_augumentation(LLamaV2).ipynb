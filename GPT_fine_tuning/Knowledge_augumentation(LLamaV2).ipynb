{
 "cells": [
  {
   "cell_type": "markdown",
   "metadata": {
    "colab_type": "text",
    "id": "view-in-github"
   },
   "source": [
    "<a href=\"https://colab.research.google.com/github/bhushanmandava/LLM_fine_tuning/blob/main/health.ipynb\" target=\"_parent\"><img src=\"https://colab.research.google.com/assets/colab-badge.svg\" alt=\"Open In Colab\"/></a>"
   ]
  },
  {
   "cell_type": "code",
   "execution_count": null,
   "metadata": {
    "colab": {
     "base_uri": "https://localhost:8080/"
    },
    "id": "aEVLf-3WZ2zY",
    "outputId": "e36da75d-5b02-4227-cc7b-884dd33dfd45"
   },
   "outputs": [],
   "source": [
    "!pip uninstall accelerate peft bitsandbytes transformers trl -y\n",
    "!pip install accelerate peft==0.13.2 bitsandbytes transformers trl==0.12.0"
   ]
  },
  {
   "cell_type": "code",
   "execution_count": null,
   "metadata": {
    "colab": {
     "base_uri": "https://localhost:8080/"
    },
    "id": "V5xJt-Vraf4b",
    "outputId": "58747753-6402-4467-e997-39b9d6a772c5"
   },
   "outputs": [],
   "source": [
    "!pip install datasets\n"
   ]
  },
  {
   "cell_type": "code",
   "execution_count": null,
   "metadata": {
    "id": "V9AO_gePOExa"
   },
   "outputs": [],
   "source": [
    "import os\n",
    "import torch\n",
    "from trl import SFTTrainer\n",
    "from datasets import load_dataset\n",
    "from peft import LoraConfig, PeftModel\n",
    "from transformers import (AutoModelForCausalLM, AutoTokenizer, BitsAndBytesConfig,HfArgumentParser ,TrainingArguments,pipeline,logging)"
   ]
  },
  {
   "cell_type": "code",
   "execution_count": null,
   "metadata": {
    "id": "WO_Qz-JrOq9d"
   },
   "outputs": [],
   "source": [
    "model_base =\"aboonaji/llama2finetune-v2\"#  llama version 2 fine tuned model\n",
    "source_dataset = \"gamino/wiki_medical_terms\" # gettin the dataset which is  medical terms\n",
    "\n",
    "formatted_dataset = \"aboonaji/wiki_medical_terms_llam2_format\" # this the data which is formmated"
   ]
  },
  {
   "cell_type": "code",
   "execution_count": null,
   "metadata": {
    "id": "ZtcOGIhfgijH"
   },
   "outputs": [],
   "source": [
    "device = torch.device(\"cuda\" if torch.cuda.is_available() else \"cpu\")\n"
   ]
  },
  {
   "cell_type": "code",
   "execution_count": null,
   "metadata": {
    "id": "8Jam_Lc_b5oG"
   },
   "outputs": [],
   "source": [
    "lora_hyper_r = 64\n",
    "lora_hyper_alpha = 16\n",
    "lora_hyper_dropout = 0.1"
   ]
  },
  {
   "cell_type": "code",
   "execution_count": null,
   "metadata": {
    "id": "5KXJecIcb6e7"
   },
   "outputs": [],
   "source": [
    "enable_4bit = True\n",
    "compute_dtype_bnb = \"float16\"\n",
    "quant_type_bnb = \"nf4\"\n",
    "double_quant_flag = False"
   ]
  },
  {
   "cell_type": "code",
   "execution_count": null,
   "metadata": {
    "id": "P1n2Wig_b8D7"
   },
   "outputs": [],
   "source": [
    "results_dir = \"./results\"\n",
    "epochs_count = 10\n",
    "enable_fp16 = False\n",
    "enable_bf16 = False\n",
    "train_batch_size = 4\n",
    "eval_batch_size = 4\n",
    "accumulation_steps = 1\n",
    "checkpointing_flag = True\n",
    "grad_norm_limit = 0.3\n",
    "train_learning_rate = 2e-4\n",
    "decay_rate = 0.001\n",
    "optimizer_type = \"paged_adamw_32bit\"\n",
    "scheduler_type = \"cosine\"\n",
    "steps_limit = 100\n",
    "warmup_percentage = 0.03\n",
    "length_grouping = True\n",
    "checkpoint_interval = 0\n",
    "log_interval = 25"
   ]
  },
  {
   "cell_type": "code",
   "execution_count": null,
   "metadata": {
    "id": "U2PUmZYVb-9y"
   },
   "outputs": [],
   "source": [
    "enable_packing = False\n",
    "sequence_length_max = None\n",
    "device_assignment = {\"\": 0}"
   ]
  },
  {
   "cell_type": "code",
   "execution_count": null,
   "metadata": {
    "colab": {
     "base_uri": "https://localhost:8080/"
    },
    "id": "wfBIAAOpcAfh",
    "outputId": "d9de9dd4-0395-4f0e-b65c-29abd002cf53"
   },
   "outputs": [],
   "source": [
    "training_data = load_dataset(formatted_dataset, split = \"train\")"
   ]
  },
  {
   "cell_type": "code",
   "execution_count": null,
   "metadata": {
    "colab": {
     "base_uri": "https://localhost:8080/"
    },
    "id": "cwlMCdAYcCEF",
    "outputId": "fe4cfc90-c1a1-41d7-930c-cb4019230596"
   },
   "outputs": [],
   "source": [
    "training_data"
   ]
  },
  {
   "cell_type": "code",
   "execution_count": null,
   "metadata": {
    "id": "_k4rc7Z2cFUs"
   },
   "outputs": [],
   "source": [
    "dtype_computation = getattr(torch, compute_dtype_bnb)\n",
    "bnb_setup = BitsAndBytesConfig(load_in_4bit = enable_4bit,\n",
    "                               bnb_4bit_quant_type = quant_type_bnb,\n",
    "                               bnb_4bit_use_double_quant = double_quant_flag,\n",
    "                               bnb_4bit_compute_dtype = dtype_computation)"
   ]
  },
  {
   "cell_type": "code",
   "execution_count": null,
   "metadata": {
    "colab": {
     "base_uri": "https://localhost:8080/",
     "height": 337,
     "referenced_widgets": [
      "7a66150554b04c5592c0285dd554b141",
      "4fd63502102a4da5876461452ad3752d",
      "20ec12cef9774c9a8266037d33d150a0",
      "90974ddd39c54f9c883db289d6eb167e",
      "bee3becea99643d6943f18f2ae324812",
      "12a0c52f69ef40469c0b796394ba92fb",
      "9ccab0472ad74c0aa3976985774e519d",
      "345712ac496c49878cc5b0c7d607a366",
      "de3dfaf5d2214327b2234e9f1c85abae",
      "40e37525c9674199ae012fb19d2d6261",
      "0374bdba44be4609b0c6a9c0e0105d81",
      "6ac5a34347ad4a0ea0066946b48da1dd",
      "12a464e19bb74a838e23415a81089094",
      "c26ea50225e1417e8af14eb16d5a2fa3",
      "080f82efc89348d4a7fac5f1d27d3c6a",
      "6205448368fa499ba7e4aff0c03db5cb",
      "dfb2e6c94e564e2d88fb10638d7dbd26",
      "cf2695f14d524cde91396873984146a5",
      "259ef24019a54677bee8e92edef8581a",
      "c27a442e8ddf4a2ca17c2103a330a837",
      "c733e28426374689928d8b19447e2ae0",
      "5ca3ceb453694c1cb6cb9ad57bb2656b",
      "033cee03e8b4419387dce034d6e617bd",
      "f875d44e138447c5a05908440f2e1d19",
      "df004219adec49f6bf06611c8a2585b0",
      "0af4e190e5c64ab69123d30e19c4f5c5",
      "25824ff546454e7482d64a187f13c2f2",
      "a75f3876f16e4c51a6af9ba046b9f752",
      "273385fbcf764d4aba09feed33e70836",
      "baf62022774442a3afe0154bbec8cc20",
      "2267dfb2928f4ffc9ceade6a9fcce8a9",
      "f3b9287174dc4475b94a61e3253efb40",
      "722be85860ba46468c03fd22db0fbc3c",
      "5b4c59733b3745e0bc7c23d3d885fb90",
      "96e94481561b47e28f43e75eeb1d49bd",
      "18880078d6604de19ba78d7aae1c6691",
      "160276a8afc84d1bacd56feff78fc7ea",
      "0c27e3713a2d477fae66af4be598fed9",
      "4a6510abe2c34174bca608fb78e9d853",
      "e04e7e1412a643d7811da3e67fbaa720",
      "8db820543fd14b74ab1d657a310295d2",
      "d4b7e30dd15c4c7181fa57729d9a5a81",
      "7a106276815f489f8019ffb7ced2532b",
      "ccd95cb9b6084f2eb5a17c836f20f5ca",
      "fd00e2bb24af422197fff1ed593cd289",
      "4b4707f5293349c8ab40b37043445271",
      "756448f438db4e8ba5ebe961dca42123",
      "505e360f173743d580e3bb8ccdacf0db",
      "aed83b9504d64fdcb71dd315e51e348d",
      "c9957ba69ef24f8da459dd6d3357ca1d",
      "8080317938b34fadbd374931175e3c24",
      "e516e07b77a1497ca0a692d14c8b3c88",
      "c79b7e24f7e247aca95a546978d3763e",
      "0dba8d5c7b7b40cab509291f1ecd4bd5",
      "f77b624613274e4ca35cd0342c1e1ae2",
      "c0316b3107964d05ace5748040fcd679",
      "a6bdb1a0379843f6bd6b160f3f2bc052",
      "e1f0ce916b8a4123909269db2f6a4467",
      "1421f478cb4f4b80808470bcdc844e09",
      "a90a6e8fe7db4b83a3fe1c8e1adec012",
      "a17053c519354fa5a1efaf25b9e23055",
      "5b48a87a34ae49aeb090c96e040b1396",
      "3ffb8414db5240dd9999c18f7d588a99",
      "9b9cd07a16344858a37680aec1588d19",
      "dec16b1ca80f4f2394b95b1e1ec79dc3",
      "afcc6bb9928c457a842a4adc3071c979",
      "b1213e2a8e2d48cfb175de3f3ddda2e7",
      "faa52d66d7cc49a2b437386108d9e6d3",
      "03d99dc4a05f4cf4ae3c77b7ac50b147",
      "3cbcd14d99ce48c4a95f224e605cf368",
      "ee68433f447b4b33bb1fd081e7390394",
      "6a8b41badfc1472f9e990cd186cae1fb",
      "a487fecfe0aa4a01a9932ba8709cc50b",
      "1234c0ea93e24b749a390b93554ca2df",
      "ce2e9729acca489fac41afa03c5c06cd",
      "023db0d3ef12473bb0cfe29037a98273",
      "67fdbf21e67948cfa15fd022c8f28ced",
      "c9b2e125ec6e4459bfacaa9f6fc87c4f",
      "9882a4fd12a44f27a6e3175ae11a4b90",
      "bbb7e949b1a84b2ea11c328f5ab942ff",
      "77c72b509acf402badbdf12a42d19a69",
      "0be942ef0198440895e36f5c3820a6ab",
      "7729d5a34ba94240b638e074d352fda7",
      "8135439d6ea243b6ab8426b902a9aa13",
      "2cfa6c93324845a6938a48ae5c411de5",
      "c9b08e27ad5a4b41b869e08e6cf54188",
      "7b79c5edb3da416dbbf0e6b1221f158e",
      "c9d78f7710184d07a335e5018920b76e",
      "2f51a9b4be744ab281f35506f1313602",
      "b4724741115f4606b002763568c20918",
      "dc539cee0af644a1b911d9ad81fd6881",
      "3b29529bb90c44e083ce002eba8e3e54",
      "1e2ff0bf1f7c4c75bb84cb3bc731143a",
      "42fabe3b34594a9b8c03f602d163a38d",
      "d6d2ea9398f44d00b6719f2c13e26b51",
      "02687e09504543ee9e95634814d2ff4a",
      "2bcfc3f3f50c449d9e9758224ef37067",
      "2d62ca22cd094f94a3fc74d466066fad",
      "b33f4ed4aad64bf0b35178daa4e7772b",
      "caae1a04371c4349ac5bfdd6a5214848",
      "fed77d988beb4f0787fe83870448f089",
      "68706b2f65db43059788c14e2234a3ef",
      "d8074bd30e7e4449a8a1e2b2bf70a57b",
      "3e885b65f755485397fae99def38602c",
      "f28b39e2b5994f0e96d1c89903982469",
      "1e201cfe814f4567a08b4f6be4640845",
      "8de9838774a3403a8eee3024c45cb419",
      "3b72b54576454494a953d04c07ff1aab",
      "dd2edbe4894e4230ab70b54a9bb78227",
      "99cf3b1cdea4426c9f9d180003839932"
     ]
    },
    "id": "Twt4LL8XcIfb",
    "outputId": "25080344-bbda-4dba-ffc2-430adc15ddd7"
   },
   "outputs": [],
   "source": [
    "llama_model = AutoModelForCausalLM.from_pretrained(model_base, quantization_config = bnb_setup, device_map = device_assignment)\n",
    "llama_model.config.use_case = False\n",
    "llama_model.config.pretraining_tp = 1"
   ]
  },
  {
   "cell_type": "code",
   "execution_count": null,
   "metadata": {
    "colab": {
     "base_uri": "https://localhost:8080/",
     "height": 177,
     "referenced_widgets": [
      "92abb41c85734676bbf8f611310312d9",
      "d76725b3f74549da8c705e944347c8a3",
      "5f5c3336254a400187962532f11b9baa",
      "90531d76346a40b18f762de31ceefe10",
      "fda837cdf2c14dbaaad8b3d50762cb4b",
      "316ddaeaebaa45db9b969983b3730cca",
      "503a107a263b4afca13d5e9aec17ebfa",
      "2952d50863324a458f661ce906d2ca95",
      "21a250625e704fb6ac5687a89a14db66",
      "c9c3c760ff684b78867db1fd1796042e",
      "5f25ad27ca064052beb38d66c8b8e431",
      "4a9817328eae4fea8c61cac01e242eee",
      "9354b15f27634ceb9cdfe7c741a0e66d",
      "eea6feae8a084c47bd80317204f2b35b",
      "c08dc18575564d0fbbb4f67c2a6edff1",
      "f7f7919000ec45d799b7a8062476ecda",
      "7c00389b4b0340fc9d1e57979865edc8",
      "bb2bcb0204734c38acf0b5739cae4482",
      "2c050b98cfe646429543c6639d5c8fb6",
      "3739bc08d1ad4db9849973fe6a7f7d76",
      "0e3beadcd6c44cc0909ef6230646c995",
      "040d993e0b9a48ebbfd6c0af26468b88",
      "6bc4f88defa2403caafc4cc513656c04",
      "32dcf1bd45244c679d17fd0a2330260d",
      "599becfefc3e415195fc4cba6ae009af",
      "36e8a004666a49978507c26a4a6e3658",
      "aaa9fc0e35ca4bec9555dd022518b213",
      "91ee8270c6d4452ca20428ea2eddc65d",
      "7c4d454ee8d84b358fbe103380140281",
      "d48bb9ab02e14b1db8b25f1d7f4dc0f9",
      "8db8a1eaed0247499ac400e24087359b",
      "5d1a9ed45814435cac2f9769e84d4836",
      "531ca18e70ad4c57920bce61fa586600",
      "ce3b317497b046f7a6ec175038eab058",
      "3fbd389d5c614738981096044598f409",
      "970d1109f1024c6d8ec9c7d71f11ffea",
      "711fabadd4844fefac61620366ac7395",
      "af002fcff6f940faa57a048255dfb782",
      "cdcf2d18824f4b37baaa4a577702498f",
      "2c301f235fc248f181f41005a838fcf0",
      "b7d0eb45449f40b3aabd7ca6dc6b1bf9",
      "6c809a0772654b298b9d45b11ed4ca3f",
      "a8b459cb9398433584333fbc366631fb",
      "fe9f53dae8014c99986a7ae532ae3d42",
      "e05769e2306f44318ca76d52cb922138",
      "5eab2f3c1392465bb18eda5c13881fbc",
      "7fa926af25c147ddb5998ab3bac3311e",
      "9a088c02a7ee46aba8c43cbf63917217",
      "ab6159d1d3664c31a54255e1fa4291a6",
      "9466b427f1ef4554a46aee400773796d",
      "defaca0f09c9424aab81f3e8fb37642e",
      "ad07b23df1fd4ff5a60f3e7627f60846",
      "c2cca93478b441f98bcbe0a8a8753be6",
      "41c2e01e41ee4733b050dbffca68236c",
      "90eec3b5ac474324a5492850f910a044"
     ]
    },
    "id": "aC7PsbiNcvGR",
    "outputId": "61f89b62-418b-43c3-bcd8-102f63a85fcb"
   },
   "outputs": [],
   "source": [
    "llama_tokenizer = AutoTokenizer.from_pretrained(model_base, trust_remote_code = True)\n",
    "llama_tokenizer.pad_token = llama_tokenizer.eos_token\n",
    "llama_tokenizer.padding_side = \"right\""
   ]
  },
  {
   "cell_type": "code",
   "execution_count": null,
   "metadata": {
    "id": "S4MTpbLrdYes"
   },
   "outputs": [],
   "source": [
    "peft_setup = LoraConfig(lora_alpha = lora_hyper_alpha,\n",
    "                        lora_dropout = lora_hyper_dropout,\n",
    "                        r = lora_hyper_r,\n",
    "                        bias = \"none\",\n",
    "                        task_type = \"CAUSAL_LM\")"
   ]
  },
  {
   "cell_type": "code",
   "execution_count": null,
   "metadata": {
    "id": "4za9GuwxdiBx"
   },
   "outputs": [],
   "source": [
    "train_args = TrainingArguments(output_dir = results_dir,\n",
    "                               num_train_epochs = epochs_count,\n",
    "                               per_device_train_batch_size = train_batch_size,\n",
    "                               per_device_eval_batch_size = eval_batch_size,\n",
    "                               gradient_accumulation_steps = accumulation_steps,\n",
    "                               learning_rate = train_learning_rate,\n",
    "                               weight_decay = decay_rate,\n",
    "                               optim = optimizer_type,\n",
    "                               save_steps = checkpoint_interval,\n",
    "                               logging_steps = log_interval,\n",
    "                               fp16 = enable_fp16,\n",
    "                               bf16 = enable_bf16,\n",
    "                               max_grad_norm = grad_norm_limit,\n",
    "                               max_steps = steps_limit,\n",
    "                               warmup_ratio = warmup_percentage,\n",
    "                               group_by_length = length_grouping,\n",
    "                               lr_scheduler_type = scheduler_type,\n",
    "                               gradient_checkpointing = checkpointing_flag)"
   ]
  },
  {
   "cell_type": "code",
   "execution_count": null,
   "metadata": {
    "colab": {
     "base_uri": "https://localhost:8080/",
     "height": 225,
     "referenced_widgets": [
      "6a235768429c400996ca2667346d4506",
      "3b3400f387bf4dbc8ea8e506337a5cf0",
      "d6e60758ea7d4054bbede05359d25a3d",
      "c3c90c2f5de64be6adbc82f84b3f1059",
      "124cf512080f416bbf096cce06f2a99d",
      "7666529faca547b1b63c2fcb7789b583",
      "61bd1f385bb34fd29e0faa1db20dd2cf",
      "43db8d0ea9504caab01771b5ccc3b850",
      "251ba23ec8be4ff28ee1c6ec0dbbfae0",
      "5ec40ab98305492e95d5261b32357c47",
      "a7997e288be04207b938298db8fdc354"
     ]
    },
    "id": "tS9ti5vVdkVb",
    "outputId": "3b58ce58-057b-4fb5-d055-de92e0af1131"
   },
   "outputs": [],
   "source": [
    "# Check for GPU and move model to CUDA\n",
    "device = torch.device(\"cuda\" if torch.cuda.is_available() else \"cpu\")\n",
    "llama_model.to(device)\n",
    "llama_sftt_trainer = SFTTrainer(model = llama_model,\n",
    "                                args = train_args,\n",
    "                                train_dataset = training_data,\n",
    "                                tokenizer = llama_tokenizer,\n",
    "                                peft_config = peft_setup,\n",
    "                                dataset_text_field = \"text\",\n",
    "                                max_seq_length = sequence_length_max,\n",
    "                                packing = enable_packing)"
   ]
  },
  {
   "cell_type": "code",
   "execution_count": null,
   "metadata": {
    "colab": {
     "base_uri": "https://localhost:8080/"
    },
    "id": "FYS6OHI5hOQc",
    "outputId": "44b01dd3-a556-4958-8491-e57cb3f3f2ed"
   },
   "outputs": [],
   "source": [
    "\n",
    "# Double-check\n",
    "print(next(llama_model.parameters()).device)  # Should print 'cuda:0'\n"
   ]
  },
  {
   "cell_type": "code",
   "execution_count": null,
   "metadata": {
    "colab": {
     "base_uri": "https://localhost:8080/",
     "height": 634
    },
    "id": "5gxSOtNVdmgp",
    "outputId": "ac07cdf5-4014-4f85-dbd9-8f6d6a89beb2"
   },
   "outputs": [],
   "source": [
    "llama_sftt_trainer.train()"
   ]
  },
  {
   "cell_type": "code",
   "execution_count": null,
   "metadata": {
    "colab": {
     "base_uri": "https://localhost:8080/"
    },
    "id": "iHYOWmUXdzEG",
    "outputId": "29f24631-744a-445c-ce47-24cadb6a1466"
   },
   "outputs": [],
   "source": [
    "user_prompt = \"Please tell me about Bursitis\"\n",
    "text_generation_pipe = pipeline(task = \"text-generation\", model = llama_model, tokenizer = llama_tokenizer, max_length = 500)\n",
    "generation_result = text_generation_pipe(f\"<s>[INST] {user_prompt} [/INST]\")\n",
    "print(generation_result[0]['generated_text'])"
   ]
  }
 ],
 "metadata": {
  "accelerator": "GPU",
  "colab": {
   "authorship_tag": "ABX9TyPMc84qavttt7+DRnL+dGUn",
   "gpuType": "T4",
   "include_colab_link": true,
   "provenance": []
  },
  "kernelspec": {
   "display_name": "Python 3",
   "name": "python3"
  },
  "language_info": {
   "name": "python"
  }
 },
 "nbformat": 4,
 "nbformat_minor": 0
}
